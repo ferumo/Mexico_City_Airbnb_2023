{
 "cells": [
  {
   "cell_type": "markdown",
   "id": "872647c3",
   "metadata": {},
   "source": [
    "# Mexico City: Airbnb 2023 Analysis\n",
    "\n",
    "by Fernando Rubi"
   ]
  },
  {
   "cell_type": "markdown",
   "id": "3cb192aa",
   "metadata": {},
   "source": [
    "### Dataset Information\n",
    "\n",
    "Source: http://insideairbnb.com/get-the-data/\n",
    "\n",
    "Additional Information: The data extracted are calendar from the date of extraction they are not an historic dataset. The Listing dataset to be used is the last available from 29-Dec-2022.\n",
    "\n",
    "Datasets name: Calendar.csv, Listings.csv"
   ]
  },
  {
   "cell_type": "code",
   "execution_count": null,
   "id": "90ed6ee3",
   "metadata": {},
   "outputs": [],
   "source": [
    "#Load Libraries\n",
    "import pandas as pd\n",
    "import numpy as np\n",
    "import matplotlib.pyplot as plt\n",
    "import seaborn as sns\n",
    "import plotly.express as px\n",
    "\n",
    "import datetime\n",
    "from datetime import timedelta\n",
    "\n",
    "from sklearn.model_selection import train_test_split\n",
    "from sklearn.metrics import confusion_matrix\n",
    "from sklearn.model_selection import GridSearchCV\n",
    "from sklearn.ensemble import AdaBoostClassifier\n",
    "from sklearn import preprocessing\n",
    "from sklearn.metrics import accuracy_score\n",
    "from sklearn.metrics import classification_report\n",
    "\n",
    "import folium\n",
    "from folium.plugins import MarkerCluster\n",
    "from folium.features import DivIcon"
   ]
  },
  {
   "cell_type": "markdown",
   "id": "a4380d26",
   "metadata": {},
   "source": [
    "## Loading the calendar datasets"
   ]
  },
  {
   "cell_type": "markdown",
   "id": "37c10e4e",
   "metadata": {},
   "source": [
    "#### Load the Calendar Datasets and create a new merged dataframe"
   ]
  },
  {
   "cell_type": "code",
   "execution_count": null,
   "id": "ffab0489",
   "metadata": {},
   "outputs": [],
   "source": [
    "#Load calendar datasets\n",
    "calendar1 = pd.read_csv('01_26Mar22/calendar.csv.gz', compression='gzip')\n",
    "calendar2 = pd.read_csv('02_21Jun22/calendar.csv.gz', compression='gzip')\n",
    "calendar3 = pd.read_csv('03_22Sept22/calendar.csv.gz', compression='gzip')\n",
    "calendar4 = pd.read_csv('04_29Dec22/calendar.csv.gz', compression='gzip')"
   ]
  },
  {
   "cell_type": "code",
   "execution_count": null,
   "id": "6d524447",
   "metadata": {},
   "outputs": [],
   "source": [
    "cal_lst = [calendar1, calendar2, calendar3, calendar4]"
   ]
  },
  {
   "cell_type": "code",
   "execution_count": null,
   "id": "2df562e3",
   "metadata": {},
   "outputs": [],
   "source": [
    "i=0\n",
    "for cal in cal_lst:\n",
    "    i+=1\n",
    "    #Change the date column from string to datetime format.\n",
    "    cal['date'] = pd.to_datetime(cal['date'], format='%Y-%m-%d')\n",
    "    min_date = cal['date'].dt.date.min()\n",
    "    max_date = cal['date'].dt.date.max()\n",
    "    \n",
    "    #Print the number of rows and date range from each dataframe\n",
    "    print(f\"Calendar{i}: {cal.shape[0]} rows; date range from {min_date} to {max_date}\")\n",
    "    \n",
    "    #Create the variable booked inverse to column available\n",
    "    cal['booked'] = cal['available'].replace({'f':1, 't':0})\n",
    "    \n",
    "    #Create new columns for the Year, Month and Weekday\n",
    "    cal['year'] = cal['date'].dt.year\n",
    "    cal['month'] = cal['date'].dt.month\n",
    "    cal['weekday'] = cal['date'].dt.weekday #0: Monday,... , 6:Sunday\n",
    "\n",
    "\n",
    "calendar1.head()"
   ]
  },
  {
   "cell_type": "markdown",
   "id": "777ec38d",
   "metadata": {},
   "source": [
    "## Question 1: How many days before a main holiday should I reserve to still have several options?"
   ]
  },
  {
   "cell_type": "markdown",
   "id": "0c231755",
   "metadata": {},
   "source": [
    "### Occupancy Rate Formula\n",
    "\n",
    "Occupancy Rate = Rented days / Total Available days"
   ]
  },
  {
   "cell_type": "code",
   "execution_count": null,
   "id": "85dfd0ce",
   "metadata": {},
   "outputs": [],
   "source": [
    "def graph_cal_grouped(df, group, y, title='Calendar Bar Plot', annotation='Grouped mean'):\n",
    "    '''\n",
    "    INPUT\n",
    "    df: dataframe to group and plot\n",
    "    group: column name as string to use for group \n",
    "    y: column name as string to use for Y axis\n",
    "        \n",
    "    OUTPUT\n",
    "    Graph object    \n",
    "    '''\n",
    "    df_grp = df.groupby(group)[y].mean().to_frame()\n",
    "\n",
    "    fig = px.bar(\n",
    "        df_grp,\n",
    "        y=y,\n",
    "        color=y,\n",
    "        title=f'<span style=\"color:#4169e1\">{title}</span>',\n",
    "        range_color=[0,1],\n",
    "        color_continuous_scale='inferno' #color options: bluered, inferno, viridis\n",
    "    ) \n",
    "    \n",
    "    fig.update_layout(yaxis_range=[0,0.8])\n",
    "\n",
    "    fig.add_annotation(\n",
    "        text = annotation,\n",
    "        xref = 'paper',\n",
    "        yref = 'paper',\n",
    "        x = -0.04,\n",
    "        y = 1.13,\n",
    "        showarrow = False,\n",
    "        align = 'left',\n",
    "        xanchor = 'left',\n",
    "        font = {'size': 11}\n",
    "    )\n",
    "\n",
    "    return fig"
   ]
  },
  {
   "cell_type": "code",
   "execution_count": null,
   "id": "a4727ea1",
   "metadata": {
    "scrolled": false
   },
   "outputs": [],
   "source": [
    "i=1\n",
    "for cal in cal_lst:\n",
    "    title = 'Calendar{} Bar Plot'.format(i)\n",
    "    annotation = 'Daily occupancy rate mean'\n",
    "    fig = graph_cal_grouped(cal, 'date', 'booked', title, annotation)\n",
    "    fig.show()\n",
    "    i+=1"
   ]
  },
  {
   "cell_type": "code",
   "execution_count": null,
   "id": "7b596c11",
   "metadata": {},
   "outputs": [],
   "source": [
    "day_str = '2022-10-29'\n",
    "\n",
    "for cal in cal_lst:\n",
    "    cal_min = cal['date'].dt.date.min()\n",
    "    cal_month = cal_min.month\n",
    "    holiday = datetime.datetime.strptime(day_str, '%Y-%m-%d').date()\n",
    "    \n",
    "    if cal_month > 11:\n",
    "        holiday = holiday+timedelta(days=364)\n",
    "    \n",
    "    else:\n",
    "        pass\n",
    "\n",
    "    delta_days = holiday - cal_min\n",
    "    \n",
    "    df_holiday = cal.groupby('date')['booked'].mean().to_frame()\n",
    "    occupancy_val = round((df_holiday.loc[str(holiday),'booked'] *100),2)\n",
    "        \n",
    "    \n",
    "    print('Check date:{} / Holiday date:{} / Days Difference:{} / mean occupancy:{}%'.format(\n",
    "        cal_min, holiday, delta_days.days, occupancy_val)\n",
    "         )"
   ]
  },
  {
   "cell_type": "markdown",
   "id": "f35ca041",
   "metadata": {},
   "source": [
    "## Question 2: If I want to try to avoid crowded places or traffic jams on the highway, which day of the week should I travel?"
   ]
  },
  {
   "cell_type": "code",
   "execution_count": null,
   "id": "66c98a15",
   "metadata": {},
   "outputs": [],
   "source": [
    "section1 = str(calendar2['date'].dt.date.min())\n",
    "section2 = str(calendar3['date'].dt.date.min())\n",
    "section3 = str(calendar4['date'].dt.date.min())\n",
    "section4 = str(calendar1['date'].dt.date.max()+timedelta(days=1))"
   ]
  },
  {
   "cell_type": "code",
   "execution_count": null,
   "id": "75eb6154",
   "metadata": {},
   "outputs": [],
   "source": [
    "section_lst = [section1, section2, section3, section4]"
   ]
  },
  {
   "cell_type": "code",
   "execution_count": null,
   "id": "066f9813",
   "metadata": {},
   "outputs": [],
   "source": [
    "def merge_cal(cal, sec):\n",
    "    '''\n",
    "    INPUT\n",
    "    cal: calendar dataframe in a list\n",
    "    sec: strings with the cut dates in a list\n",
    "    \n",
    "    OUTPUT\n",
    "    df: merged dataframe\n",
    "    '''\n",
    "    tmp = ['tmp1', 'tmp2', 'tmp3', 'tmp4']\n",
    "    merge = {}\n",
    "    \n",
    "    for i in range(4):\n",
    "        merge[tmp[i]] = cal[i].loc[cal[i]['date']<sec[i]]\n",
    "        i+=1\n",
    "    \n",
    "    df = pd.concat(list(merge.values()))\n",
    "    \n",
    "    return df"
   ]
  },
  {
   "cell_type": "code",
   "execution_count": null,
   "id": "ccc3ee28",
   "metadata": {},
   "outputs": [],
   "source": [
    "df_calendar = merge_cal(cal_lst, section_lst)\n",
    "\n",
    "min_date = df_calendar['date'].dt.date.min()\n",
    "max_date = df_calendar['date'].dt.date.max()\n",
    "print(f\"Merged calendar range from {min_date} to {max_date}\")"
   ]
  },
  {
   "cell_type": "code",
   "execution_count": null,
   "id": "8faed65f",
   "metadata": {},
   "outputs": [],
   "source": [
    "title = '<span style=\"color:#4169e1\">Merged Calendar Dataframe</span> <span style=\"color:#808080\">Daily mean occupancy</span>'\n",
    "annotation = 'Data is from March 26th, 2022 to March 26th, 2023'\n",
    "fig = graph_cal_grouped(df_calendar, 'date', 'booked', title, annotation)\n",
    "\n",
    "i=0\n",
    "for s in section_lst:\n",
    "    i += 1\n",
    "    fig.add_vline(x=s, line_width=1, line_dash=\"dash\", line_color=\"red\", opacity=.5)\n",
    "    fig.add_annotation(x=s, y=.75, text='<b>X</b>', showarrow=False, hovertext=f'cut #{i} date: '+s)\n",
    "\n",
    "fig.show()"
   ]
  },
  {
   "cell_type": "code",
   "execution_count": null,
   "id": "d9297e76",
   "metadata": {},
   "outputs": [],
   "source": [
    "df_daily = df_calendar.groupby('date')['booked'].mean().to_frame()\n",
    "df_daily = df_daily.reset_index()\n",
    "df_daily['weekday'] = df_daily['date'].dt.weekday\n",
    "df_daily['pct_change'] = df_daily['booked'].pct_change()\n",
    "df_daily['abs_change'] = df_daily['pct_change'].abs()\n",
    "df_daily.head()"
   ]
  },
  {
   "cell_type": "code",
   "execution_count": null,
   "id": "db4d142e",
   "metadata": {},
   "outputs": [],
   "source": [
    "title = '<span style=\"color:#4169e1\">Calendar Dataframe</span> <span style=\"color:#808080\">Weekday mean occupancy</span>'\n",
    "annotation = 'Days of the week starting monday with 0 and ending Sunday with 6'\n",
    "fig = graph_cal_grouped(df_daily, 'weekday', 'abs_change', title, annotation)\n",
    "fig.update_layout(yaxis_range=[0,0.1], coloraxis=dict(cmin=0, cmax=0.1))\n",
    "fig.show()"
   ]
  },
  {
   "cell_type": "code",
   "execution_count": null,
   "id": "8aa52df8",
   "metadata": {},
   "outputs": [],
   "source": [
    "title = '<span style=\"color:#4169e1\">Calendar Dataframe</span> <span style=\"color:#808080\">Weekday mean occupancy</span>'\n",
    "annotation = 'Days of the week starting monday with 0 and ending Sunday with 6'\n",
    "fig = graph_cal_grouped(df_calendar, 'weekday', 'booked', title, annotation)\n",
    "fig.update_layout(yaxis_range=[0,0.4], coloraxis=dict(cmin=0.3, cmax=0.4))\n",
    "fig.show()"
   ]
  },
  {
   "cell_type": "markdown",
   "id": "13aec394",
   "metadata": {},
   "source": [
    "## Load the Listings Dataset"
   ]
  },
  {
   "cell_type": "code",
   "execution_count": null,
   "id": "73a062a2",
   "metadata": {},
   "outputs": [],
   "source": [
    "#Load listings dataset\n",
    "df_listings = pd.read_csv('04_29Dec22/listings.csv.gz', compression='gzip')\n",
    "rows = df_listings.shape[0]\n",
    "columns = df_listings.shape[1]\n",
    "print(\"Listings rows: {}, columns: {}\".format(rows, columns))"
   ]
  },
  {
   "cell_type": "code",
   "execution_count": null,
   "id": "05fbdc7f",
   "metadata": {
    "scrolled": false
   },
   "outputs": [],
   "source": [
    "#Calculate the occupancy rate per listing\n",
    "occupancy_rate = df_calendar.groupby(['listing_id'])['booked'].mean().to_frame()\n",
    "occupancy_rate.describe()"
   ]
  },
  {
   "cell_type": "markdown",
   "id": "aba7203d",
   "metadata": {},
   "source": [
    "## Occupancy Rate Distribution"
   ]
  },
  {
   "cell_type": "markdown",
   "id": "7ca9cb64",
   "metadata": {},
   "source": [
    "### Classification of High - Medium - Low Occupancy Rate"
   ]
  },
  {
   "cell_type": "code",
   "execution_count": null,
   "id": "d4a9ca7d",
   "metadata": {
    "scrolled": false
   },
   "outputs": [],
   "source": [
    "occupancy_rate.quantile([0.33,0.67])"
   ]
  },
  {
   "cell_type": "code",
   "execution_count": null,
   "id": "cb7c0c18",
   "metadata": {},
   "outputs": [],
   "source": [
    "perc_low = np.percentile(occupancy_rate,33)\n",
    "perc_high = np.percentile(occupancy_rate,67)\n",
    "print('Range: from {:.3f} to {:.3f}'.format(perc_low, perc_high))"
   ]
  },
  {
   "cell_type": "code",
   "execution_count": null,
   "id": "d0109dfc",
   "metadata": {},
   "outputs": [],
   "source": [
    "bins = [0, perc_low, perc_high, 1]\n",
    "names = ['Low', 'Medium', 'High']\n",
    "\n",
    "occupancy_rate['occup_cat'] = pd.cut(occupancy_rate['booked'], bins, labels=names, include_lowest=True)\n",
    "occupancy_rate.head()"
   ]
  },
  {
   "cell_type": "code",
   "execution_count": null,
   "id": "5b891c95",
   "metadata": {},
   "outputs": [],
   "source": [
    "title = '<span style=\"color:#4169e1\">Distribution & Box Plot</span> <span style=\"color:#808080\">Listings mean occupancy</span>'\n",
    "annotation = 'Calculated yearly occupancy per listing'\n",
    "fig = px.histogram(occupancy_rate,\n",
    "                   x='booked',\n",
    "                   marginal='box',\n",
    "                   #color='occup_cat',\n",
    "                   title=title,\n",
    "                   )\n",
    "fig.add_annotation(\n",
    "        text = annotation,\n",
    "        xref = 'paper',\n",
    "        yref = 'paper',\n",
    "        x = -0.07,\n",
    "        y = 1.13,\n",
    "        showarrow = False,\n",
    "        align = 'left',\n",
    "        xanchor = 'left',\n",
    "        font = {'size': 11})\n",
    "\n",
    "\n",
    "for i in range(1,3):\n",
    "    fig.add_vline(x=bins[i], line_width=1, line_dash=\"dash\", line_color=\"red\", opacity=.5)\n",
    "    fig.add_annotation(x=bins[i], y=2500, text='<b>X</b>', showarrow=False,\n",
    "                   hovertext='occupancy rate: '+str(format(bins[i]*100,'.2f'))+'%')\n",
    "\n",
    "fig.show()"
   ]
  },
  {
   "cell_type": "code",
   "execution_count": null,
   "id": "fbbd528e",
   "metadata": {
    "scrolled": false
   },
   "outputs": [],
   "source": [
    "occupancy_rate['occup_cat'].value_counts()"
   ]
  },
  {
   "cell_type": "code",
   "execution_count": null,
   "id": "bd6b8dcb",
   "metadata": {},
   "outputs": [],
   "source": [
    "title = '<span style=\"color:#4169e1\">Listings Box Plot</span> <span style=\"color:#808080\">Occupancy rate categorized</span>'\n",
    "annotation = 'Categories: Low: 0 - 0.098 / Medium: 0.098 - 0.4 / High: 0.4 - 1'\n",
    "fig = px.box(occupancy_rate, x='occup_cat', y='booked', color='occup_cat',\n",
    "             title=title,\n",
    "             category_orders = {'occup_cat':['Low','Medium','High']},\n",
    "             color_discrete_map = {'Low':'#d62728', 'Medium':'#bcbd22', 'High':'#2ca02c'})\n",
    "fig.add_annotation(\n",
    "        text = annotation,\n",
    "        xref = 'paper',\n",
    "        yref = 'paper',\n",
    "        x = -0.07,\n",
    "        y = 1.13,\n",
    "        showarrow = False,\n",
    "        align = 'left',\n",
    "        xanchor = 'left',\n",
    "        font = {'size': 11})\n",
    "\n",
    "fig.show()"
   ]
  },
  {
   "cell_type": "markdown",
   "id": "a23082a3",
   "metadata": {},
   "source": [
    "### Question 3: What neighborhood is the best for having an Airbnb in Mexico City?"
   ]
  },
  {
   "cell_type": "code",
   "execution_count": null,
   "id": "9cf06c3f",
   "metadata": {
    "scrolled": false
   },
   "outputs": [],
   "source": [
    "#Add the dataframe occupancy rate to the dataframe listings\n",
    "listings = pd.merge(left=df_listings, right=occupancy_rate, left_on='id', right_index=True)"
   ]
  },
  {
   "cell_type": "code",
   "execution_count": null,
   "id": "2346784a",
   "metadata": {},
   "outputs": [],
   "source": [
    "neighb_cnt = listings.groupby(['neighbourhood_cleansed','occup_cat'])['booked'].count().to_frame()\n",
    "neighb_cnt['perc'] = neighb_cnt.groupby('neighbourhood_cleansed')['booked'].transform(lambda x:100* x/x.sum())\n",
    "neighb_cnt = neighb_cnt.reset_index()\n",
    "\n",
    "title = '<span style=\"color:#4169e1\">Neighborhood Bar Plot</span> <span style=\"color:#808080\">Listings count</span>'\n",
    "annotation = 'Order by total descending count per neighborhood'\n",
    "\n",
    "fig = px.bar(neighb_cnt,\n",
    "             x='neighbourhood_cleansed',\n",
    "             y='booked',\n",
    "             color='occup_cat',\n",
    "             text=neighb_cnt['perc'].apply(lambda x: '{0:1.2f}%'.format(x)),\n",
    "             title=title,\n",
    "             category_orders = {'occup_cat':['Low','Medium','High']},\n",
    "             color_discrete_map = {'Low':'#ff6961', 'Medium':'#ffd700', 'High':'#3cb371'})\n",
    "            \n",
    "\n",
    "fig.add_annotation(\n",
    "        text = annotation,\n",
    "        xref = 'paper',\n",
    "        yref = 'paper',\n",
    "        x = -0.07,\n",
    "        y = 1.13,\n",
    "        showarrow = False,\n",
    "        align = 'left',\n",
    "        xanchor = 'left',\n",
    "        font = {'size': 11})\n",
    "\n",
    "fig.update_layout(barmode='stack', xaxis={'categoryorder':'total descending'})\n",
    "\n",
    "fig.show()"
   ]
  },
  {
   "cell_type": "code",
   "execution_count": null,
   "id": "eb16e259",
   "metadata": {},
   "outputs": [],
   "source": [
    "#Convert price string to value\n",
    "listings['price_value'] = listings['price'].replace('\\$|,', '', regex=True).astype('float')\n",
    "listings['price_value'].describe()"
   ]
  },
  {
   "cell_type": "code",
   "execution_count": null,
   "id": "44f61d27",
   "metadata": {
    "scrolled": false
   },
   "outputs": [],
   "source": [
    "#Plot correlation price per neighborhood\n",
    "neighb_price = listings.groupby(['neighbourhood_cleansed','occup_cat'])['price_value'].quantile(.50).to_frame()\n",
    "neighb_price = neighb_price.reset_index()\n",
    "\n",
    "\n",
    "title = '<span style=\"color:#4169e1\">Price per Neighborhood</span> <span style=\"color:#808080\">Median value per category</span>'\n",
    "annotation = 'Order by total descending count per neighborhood'\n",
    "\n",
    "fig = px.bar(neighb_price,\n",
    "             x='neighbourhood_cleansed',\n",
    "             y='price_value',\n",
    "             color='occup_cat',\n",
    "             barmode='group',\n",
    "             #text_auto=True,\n",
    "             title=title,\n",
    "             category_orders = {'occup_cat':['Low','Medium','High']},\n",
    "             color_discrete_map = {'Low':'#ff6961', 'Medium':'#ffd700', 'High':'#3cb371'})\n",
    "            \n",
    "\n",
    "fig.add_annotation(\n",
    "        text = annotation,\n",
    "        xref = 'paper',\n",
    "        yref = 'paper',\n",
    "        x = -0.07,\n",
    "        y = 1.13,\n",
    "        showarrow = False,\n",
    "        align = 'left',\n",
    "        xanchor = 'left',\n",
    "        font = {'size': 11})\n",
    "\n",
    "fig.update_layout(xaxis={'categoryorder':'total descending'})\n",
    "\n",
    "fig.show()"
   ]
  },
  {
   "cell_type": "code",
   "execution_count": null,
   "id": "0f3dfa90",
   "metadata": {},
   "outputs": [],
   "source": [
    "#Plot the folium map with all the available houses marked by their occupancy classification\n",
    "cdmx_coordinate = [19.43685331156142, -99.12272036926497]\n",
    "cdmx_map = folium.Map(location=cdmx_coordinate, zoom_start=11)"
   ]
  },
  {
   "cell_type": "code",
   "execution_count": null,
   "id": "e9c33312",
   "metadata": {},
   "outputs": [],
   "source": [
    "markers = listings[['id', 'latitude', 'longitude', 'neighbourhood_cleansed', 'occup_cat']]"
   ]
  },
  {
   "cell_type": "code",
   "execution_count": null,
   "id": "eeeb8f8d",
   "metadata": {
    "scrolled": true
   },
   "outputs": [],
   "source": [
    "markers['color'] = markers['occup_cat'].replace({'Low':'red','Medium':'lightgreen','High':'green'})\n",
    "markers.head()"
   ]
  },
  {
   "cell_type": "code",
   "execution_count": null,
   "id": "094f8aee",
   "metadata": {},
   "outputs": [],
   "source": [
    "#Create feature groups\n",
    "High = MarkerCluster(name='High').add_to(cdmx_map)\n",
    "Medium = MarkerCluster(name='Medium').add_to(cdmx_map)\n",
    "Low = MarkerCluster(name='Low').add_to(cdmx_map)\n",
    "\n",
    "#Add Layer controls\n",
    "folium.LayerControl().add_to(cdmx_map)\n",
    "\n",
    "#Create and add each marker to their occupancy groups\n",
    "for index, record in markers.iterrows():\n",
    "    coordinate=[record[1],record[2]]\n",
    "    result=record[5]\n",
    "    marker = folium.Marker(coordinate, icon=folium.Icon(color='black',icon_color=result))\n",
    "    \n",
    "    if record[4] == 'High':\n",
    "        High.add_child(marker)\n",
    "        \n",
    "    elif record[4] == 'Medium':\n",
    "        Medium.add_child(marker)\n",
    "    \n",
    "    else:\n",
    "        Low.add_child(marker)"
   ]
  },
  {
   "cell_type": "code",
   "execution_count": null,
   "id": "c684fff2",
   "metadata": {},
   "outputs": [],
   "source": [
    "cdmx_map"
   ]
  },
  {
   "cell_type": "code",
   "execution_count": null,
   "id": "d1dfa0ec",
   "metadata": {},
   "outputs": [],
   "source": [
    "#cdmx_map.save('cdmx_map.html')"
   ]
  },
  {
   "cell_type": "markdown",
   "id": "f9f6be2b",
   "metadata": {},
   "source": [
    "## Question 4: Does the size matter? What are the most important features to have a high occupancy?"
   ]
  },
  {
   "cell_type": "code",
   "execution_count": null,
   "id": "c523c66a",
   "metadata": {},
   "outputs": [],
   "source": [
    "listings.info()"
   ]
  },
  {
   "cell_type": "markdown",
   "id": "94db37d9",
   "metadata": {},
   "source": [
    "#### Preprocessing dataframe"
   ]
  },
  {
   "cell_type": "code",
   "execution_count": null,
   "id": "e503b6e5",
   "metadata": {},
   "outputs": [],
   "source": [
    "#Clean data frame, drop columns with no data or duplicated data\n",
    "drop_list = ['listing_url', 'scrape_id', 'last_scraped', 'source', 'name', 'description',\n",
    "             'neighborhood_overview', 'picture_url', 'host_url', 'host_name', 'host_since',\n",
    "             'host_location', 'host_about', 'host_thumbnail_url', 'host_picture_url',\n",
    "             'host_neighbourhood', 'host_listings_count', 'host_total_listings_count',\n",
    "             'host_verifications', 'neighbourhood', 'neighbourhood_group_cleansed', 'calendar_updated',\n",
    "             'has_availability', 'availability_30', 'availability_60', 'availability_90',\n",
    "             'availability_365', 'calendar_last_scraped', 'number_of_reviews_ltm', 'number_of_reviews_l30d',\n",
    "             'first_review', 'last_review', 'license', 'calculated_host_listings_count',\n",
    "             'calculated_host_listings_count_entire_homes', 'calculated_host_listings_count_private_rooms',\n",
    "             'calculated_host_listings_count_shared_rooms', 'reviews_per_month', 'bathrooms', 'property_type', 'amenities',\n",
    "             'minimum_nights', 'maximum_nights', 'minimum_minimum_nights', 'minimum_maximum_nights',\n",
    "             'maximum_minimum_nights', 'maximum_maximum_nights', 'price']"
   ]
  },
  {
   "cell_type": "code",
   "execution_count": null,
   "id": "cd2fafe8",
   "metadata": {},
   "outputs": [],
   "source": [
    "listings_filtered = listings.drop(drop_list, axis=1)"
   ]
  },
  {
   "cell_type": "code",
   "execution_count": null,
   "id": "d428b3cf",
   "metadata": {},
   "outputs": [],
   "source": [
    "#Remove symbols from columns and change to float\n",
    "perc_col = ['host_response_rate', 'host_acceptance_rate']\n",
    "for col in perc_col:\n",
    "    listings_filtered[col] = listings_filtered[col].str.extract('(\\d*)').astype('float')\n",
    "\n",
    "listings_filtered[perc_col].head()"
   ]
  },
  {
   "cell_type": "code",
   "execution_count": null,
   "id": "d3596ca8",
   "metadata": {},
   "outputs": [],
   "source": [
    "#Extract values from text column in a new column\n",
    "listings_filtered['bathrooms'] = listings_filtered['bathrooms_text'].str.extract('(\\d*\\.*\\d+)').astype('float')\n",
    "listings_filtered['bathrooms'] = listings_filtered['bathrooms'].fillna(0.5)\n",
    "\n",
    "\n",
    "listings_filtered[listings_filtered['bathrooms'] == 9.5][['bathrooms_text','bathrooms']]"
   ]
  },
  {
   "cell_type": "code",
   "execution_count": null,
   "id": "d19ebc1e",
   "metadata": {},
   "outputs": [],
   "source": [
    "listings_filtered = listings_filtered.drop('bathrooms_text', axis=1)\n",
    "listings_filtered.describe(include='object')"
   ]
  },
  {
   "cell_type": "code",
   "execution_count": null,
   "id": "d51fee41",
   "metadata": {},
   "outputs": [],
   "source": [
    "def binary_columns(df,col_lst):\n",
    "    for col in col_lst:\n",
    "        df[col+'_bin']=df[col].replace({'t':1, 'f':0, np.nan:0})\n",
    "    df.drop(labels=col_lst, axis=1, inplace=True)\n",
    "    return df"
   ]
  },
  {
   "cell_type": "code",
   "execution_count": null,
   "id": "ee63c147",
   "metadata": {},
   "outputs": [],
   "source": [
    "bin_list = ['host_is_superhost', 'host_has_profile_pic', 'host_identity_verified', 'instant_bookable']"
   ]
  },
  {
   "cell_type": "code",
   "execution_count": null,
   "id": "c94b296f",
   "metadata": {},
   "outputs": [],
   "source": [
    "listings_filtered = binary_columns(listings_filtered,bin_list)"
   ]
  },
  {
   "cell_type": "code",
   "execution_count": null,
   "id": "d7f878b0",
   "metadata": {},
   "outputs": [],
   "source": [
    "dummies_list = list(listings_filtered.describe(include='object').columns)"
   ]
  },
  {
   "cell_type": "code",
   "execution_count": null,
   "id": "1ff9dd43",
   "metadata": {},
   "outputs": [],
   "source": [
    "listings_dummies = pd.get_dummies(listings_filtered, prefix=dummies_list, columns=dummies_list)"
   ]
  },
  {
   "cell_type": "code",
   "execution_count": null,
   "id": "564067ef",
   "metadata": {},
   "outputs": [],
   "source": [
    "na_list = list(listings_dummies.loc[:, listings_dummies.isna().any()].columns)"
   ]
  },
  {
   "cell_type": "code",
   "execution_count": null,
   "id": "d196e3b4",
   "metadata": {},
   "outputs": [],
   "source": [
    "def imputing_cat_na(df, col_lst):\n",
    "    '''\n",
    "    Fill NA rows with mean by occupancy category\n",
    "    \n",
    "    INPUT\n",
    "    df: dataframe with NA values and column with 'occup_cat' category column\n",
    "    col_lst: column list to fill with mean value\n",
    "    \n",
    "    OUTPUT\n",
    "    df: dataframe with NA values filled with mean by category\n",
    "    \n",
    "    '''\n",
    "    for col in col_lst:\n",
    "        mean = df.groupby(['occup_cat'])[col].mean()\n",
    "        low = mean[0]\n",
    "        medium = mean[1]\n",
    "        high = mean[2]\n",
    "\n",
    "        df.loc[df['occup_cat']=='Low', col] = df[col].replace(np.nan,low)\n",
    "        df.loc[df['occup_cat']=='Medium', col] = df[col].replace(np.nan,medium)\n",
    "        df.loc[df['occup_cat']=='High', col] = df[col].replace(np.nan,high)\n",
    "\n",
    "    return df"
   ]
  },
  {
   "cell_type": "code",
   "execution_count": null,
   "id": "c9dedbf5",
   "metadata": {},
   "outputs": [],
   "source": [
    "listings_dummies = imputing_cat_na(listings_dummies, na_list)"
   ]
  },
  {
   "cell_type": "code",
   "execution_count": null,
   "id": "85ebf845",
   "metadata": {},
   "outputs": [],
   "source": [
    "# Drop identifiers and occupancy rate value\n",
    "listings_corr = listings_dummies.drop(labels=['id', 'host_id','latitude', 'longitude', 'booked'], axis=1)\n",
    "\n",
    "# Convert categorical variable to numerical variable for analysis\n",
    "listings_corr['occup_cat'] = listings_dummies['occup_cat'].replace({'Low':0, 'Medium':1, 'High':2}).astype('int')"
   ]
  },
  {
   "cell_type": "code",
   "execution_count": null,
   "id": "16be83ef",
   "metadata": {},
   "outputs": [],
   "source": [
    "#Calculating Correlation \n",
    "correlation=listings_corr.corr()\n",
    "\n",
    "most_related=correlation.index[abs(correlation['occup_cat'])>0.1]\n",
    "\n",
    "print(most_related, len(most_related))\n",
    "\n",
    "#Plotting the Correlation in HeatMap for the data columns which has correlation value more than 0.1\n",
    "plt.figure(figsize=(12,12))\n",
    "\n",
    "Corr_Heatmap=sns.heatmap(listings_corr[most_related].corr(),annot=True,cmap=\"GnBu\")"
   ]
  },
  {
   "cell_type": "code",
   "execution_count": null,
   "id": "7422f9f9",
   "metadata": {},
   "outputs": [],
   "source": [
    "#Droping labels and separating predictors\n",
    "x = listings_dummies.drop(labels=['id', 'host_id','latitude', 'longitude', 'booked', 'occup_cat'], axis=1)\n",
    "\n",
    "#or use only positive related columns with booked\n",
    "#x = listings_dummies[most_related]\n",
    "\n",
    "# Transforming predictor categorical labels into numerical labels????\n",
    "y = listings_dummies['occup_cat']"
   ]
  },
  {
   "cell_type": "code",
   "execution_count": null,
   "id": "5c59440a",
   "metadata": {},
   "outputs": [],
   "source": [
    "transform = preprocessing.StandardScaler()\n",
    "X = transform.fit(x).transform(x)"
   ]
  },
  {
   "cell_type": "code",
   "execution_count": null,
   "id": "84310971",
   "metadata": {},
   "outputs": [],
   "source": [
    "X_train, X_test, y_train, y_test = train_test_split(X, y, test_size=0.25, random_state=42, stratify=y)"
   ]
  },
  {
   "cell_type": "code",
   "execution_count": null,
   "id": "4f24e210",
   "metadata": {},
   "outputs": [],
   "source": [
    "print('Train shape: ',X_train.shape)\n",
    "print('Test shape: ',X_test.shape)"
   ]
  },
  {
   "cell_type": "markdown",
   "id": "0bfaa509",
   "metadata": {},
   "source": [
    "#### AdaBoost Classifier"
   ]
  },
  {
   "cell_type": "code",
   "execution_count": null,
   "id": "11ad3022",
   "metadata": {},
   "outputs": [],
   "source": [
    "model_ada = AdaBoostClassifier(learning_rate=1)\n",
    "model_ada.fit(X_train, y_train)\n",
    "y_pred = model_ada.predict(X_test)"
   ]
  },
  {
   "cell_type": "code",
   "execution_count": null,
   "id": "e59e9cb6",
   "metadata": {
    "scrolled": true
   },
   "outputs": [],
   "source": [
    "print('Accuracy Score: ', accuracy_score(y_test, y_pred))\n",
    "print(classification_report(y_test, y_pred))"
   ]
  },
  {
   "cell_type": "markdown",
   "id": "644c8e56",
   "metadata": {},
   "source": [
    "### Hyperparameter tuning using GridSearch"
   ]
  },
  {
   "cell_type": "code",
   "execution_count": null,
   "id": "9627f1cc",
   "metadata": {},
   "outputs": [],
   "source": [
    "ada_clf = AdaBoostClassifier()\n",
    "params= {\n",
    "    'n_estimators': np.arange(100,300,10),\n",
    "    'learning_rate': [0.1, 1, 2]\n",
    "}\n",
    "classes = y_train.unique()"
   ]
  },
  {
   "cell_type": "code",
   "execution_count": null,
   "id": "8bd15189",
   "metadata": {},
   "outputs": [],
   "source": [
    "grid_clf = GridSearchCV(estimator=ada_clf, scoring='f1_weighted', param_grid=params, cv=5)\n",
    "\n",
    "grid_clf.fit(X_train, y_train)"
   ]
  },
  {
   "cell_type": "code",
   "execution_count": null,
   "id": "c1a68e61",
   "metadata": {},
   "outputs": [],
   "source": [
    "print('best parameters: ', grid_clf.best_params_)"
   ]
  },
  {
   "cell_type": "code",
   "execution_count": null,
   "id": "e819371f",
   "metadata": {},
   "outputs": [],
   "source": [
    "ada_c = AdaBoostClassifier(**grid_clf.best_params_)\n",
    "ada_c.fit(X_train, y_train)\n",
    "\n",
    "y_pred = ada_c.predict(X_test)"
   ]
  },
  {
   "cell_type": "code",
   "execution_count": null,
   "id": "5640ff9f",
   "metadata": {},
   "outputs": [],
   "source": [
    "print('Accuracy Score: ', accuracy_score(y_test, y_pred))\n",
    "print(classification_report(y_test, y_pred))"
   ]
  },
  {
   "cell_type": "code",
   "execution_count": null,
   "id": "7dd3211b",
   "metadata": {},
   "outputs": [],
   "source": [
    "cm = confusion_matrix(y_test, y_pred)\n",
    "\n",
    "## Get Class Labels\n",
    "labels = model_ada.classes_"
   ]
  },
  {
   "cell_type": "code",
   "execution_count": null,
   "id": "d091911e",
   "metadata": {},
   "outputs": [],
   "source": [
    "fig = plt.figure(figsize=(8, 7))\n",
    "ax= plt.subplot()\n",
    "\n",
    "sns.heatmap(cm, annot=True, ax = ax, vmin=200, vmax=1000, center=700 , fmt = 'g', cmap='inferno')\n",
    "\n",
    "ax.set_xlabel('Predicted Label', fontsize=25)\n",
    "ax.xaxis.set_label_position('bottom')\n",
    "ax.xaxis.set_ticklabels(labels, fontsize = 12)\n",
    "ax.xaxis.tick_bottom()\n",
    "\n",
    "ax.set_ylabel('True Label', fontsize=25)\n",
    "ax.yaxis.set_ticklabels(labels, fontsize = 12)\n",
    "plt.yticks(rotation=0)"
   ]
  },
  {
   "cell_type": "code",
   "execution_count": null,
   "id": "39618e3b",
   "metadata": {},
   "outputs": [],
   "source": [
    "#get feature importances from the model\n",
    "headers = ['features', 'score']\n",
    "values = sorted(zip(x.columns, model_ada.feature_importances_), key=lambda x: x[1] * -1)\n",
    "ada_feature_importances = pd.DataFrame(values, columns = headers)"
   ]
  },
  {
   "cell_type": "code",
   "execution_count": null,
   "id": "765c4721",
   "metadata": {},
   "outputs": [],
   "source": [
    "features = ada_feature_importances['features'][:15]\n",
    "y_pos = np.arange(len(features))\n",
    "scores = ada_feature_importances['score'][:15]"
   ]
  },
  {
   "cell_type": "code",
   "execution_count": null,
   "id": "fef3f863",
   "metadata": {
    "scrolled": true
   },
   "outputs": [],
   "source": [
    "plt.figure(figsize=(10,5))\n",
    "plt.bar(y_pos, scores, align='center', alpha=0.5)\n",
    "plt.xticks(y_pos, features, rotation='vertical')\n",
    "plt.xlabel('Features')\n",
    "plt.ylabel('Score')\n",
    "plt.title('Feature importances')\n",
    " \n",
    "plt.show()"
   ]
  },
  {
   "cell_type": "markdown",
   "id": "0229d616",
   "metadata": {},
   "source": [
    "#### Additional Sources:\n",
    "\n",
    "Occupancy Rate: https://www.wallstreetmojo.com/occupancy-rate/"
   ]
  },
  {
   "cell_type": "code",
   "execution_count": null,
   "id": "f2bcc33b",
   "metadata": {},
   "outputs": [],
   "source": []
  }
 ],
 "metadata": {
  "kernelspec": {
   "display_name": "Python 3 (ipykernel)",
   "language": "python",
   "name": "python3"
  },
  "language_info": {
   "codemirror_mode": {
    "name": "ipython",
    "version": 3
   },
   "file_extension": ".py",
   "mimetype": "text/x-python",
   "name": "python",
   "nbconvert_exporter": "python",
   "pygments_lexer": "ipython3",
   "version": "3.10.0"
  }
 },
 "nbformat": 4,
 "nbformat_minor": 5
}
